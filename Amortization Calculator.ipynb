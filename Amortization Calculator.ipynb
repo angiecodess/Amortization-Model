{
 "cells": [
  {
   "cell_type": "code",
   "execution_count": 1,
   "metadata": {},
   "outputs": [],
   "source": [
    "%matplotlib inline\n",
    "import numpy_financial as npf\n",
    "import numpy as np\n",
    "import pandas as pd\n",
    "import datetime\n",
    "import matplotlib.pyplot as plt"
   ]
  },
  {
   "cell_type": "markdown",
   "metadata": {},
   "source": [
    "# How a Monthly Payment/Equated Monthly Installment is Calculated"
   ]
  },
  {
   "cell_type": "code",
   "execution_count": 2,
   "metadata": {},
   "outputs": [
    {
     "name": "stdout",
     "output_type": "stream",
     "text": [
      "Enter the principal amount:200000\n",
      "Enter interest rate as a percentage:5\n",
      "Enter the loan term in years:30\n",
      "Enter the payment frequency per year:12\n",
      "Enter start date in the format yy/mm/dd:18/03/01\n"
     ]
    }
   ],
   "source": [
    "Principal = float(input('Enter the principal amount:'))\n",
    "Interest_rate = float(input('Enter interest rate as a percentage:'))/100\n",
    "Years = int(input('Enter the loan term in years:'))\n",
    "Freq = int(input('Enter the payment frequency per year:'))\n",
    "start = datetime.datetime.strptime(input('Enter start date in the format yy/mm/dd:'), '%y/%m/%d')"
   ]
  },
  {
   "cell_type": "markdown",
   "metadata": {},
   "source": [
    "## The mortgage principal amount will be the balance after deducting the down payment."
   ]
  },
  {
   "cell_type": "markdown",
   "metadata": {},
   "source": [
    "Using pmt function from numpy, we can find the monthly payment amount."
   ]
  },
  {
   "cell_type": "code",
   "execution_count": 3,
   "metadata": {},
   "outputs": [
    {
     "data": {
      "text/plain": [
       "-1073.6432460242797"
      ]
     },
     "execution_count": 3,
     "metadata": {},
     "output_type": "execute_result"
    }
   ],
   "source": [
    "pmt = npf.pmt(Interest_rate/Freq, Years*Freq, Principal)\n",
    "pmt"
   ]
  },
  {
   "cell_type": "markdown",
   "metadata": {},
   "source": [
    "So the monthly payment is \\\\$954.83, but how much of that is interest and how much principal? That depends on the period. Although the monthly payment stays the same, as time goes by, the interest paid per period decreases as the amount paying toward principal increases."
   ]
  },
  {
   "cell_type": "markdown",
   "metadata": {},
   "source": [
    "# How Interest Rates Affect Monthly Payments"
   ]
  },
  {
   "cell_type": "markdown",
   "metadata": {},
   "source": [
    "### To calculate the first month of interest and principal:"
   ]
  },
  {
   "cell_type": "code",
   "execution_count": 4,
   "metadata": {},
   "outputs": [
    {
     "name": "stdout",
     "output_type": "stream",
     "text": [
      "-833.3333333333334 -240.30991269094636\n"
     ]
    }
   ],
   "source": [
    "# Period to calculate\n",
    "per = 1\n",
    "\n",
    "# Calculate the interest\n",
    "ipmt = npf.ipmt(Interest_rate/Freq, per, Years*Freq, Principal)\n",
    "\n",
    "# Calculate the principal\n",
    "ppmt = npf.ppmt(Interest_rate/Freq, per, Years*Freq, Principal)\n",
    "\n",
    "print(ipmt, ppmt)"
   ]
  },
  {
   "cell_type": "markdown",
   "metadata": {},
   "source": [
    "Of the \\\\$954.83, \\\\$666.67 is interest and only $288.16 is principal."
   ]
  },
  {
   "cell_type": "markdown",
   "metadata": {},
   "source": [
    "### Let's compare that with the last period."
   ]
  },
  {
   "cell_type": "code",
   "execution_count": 5,
   "metadata": {},
   "outputs": [
    {
     "name": "stdout",
     "output_type": "stream",
     "text": [
      "-4.454951228316349 -1069.1882947959634\n"
     ]
    }
   ],
   "source": [
    "perfinal = 360\n",
    "ipmt = npf.ipmt(Interest_rate/Freq, perfinal, Years*Freq, Principal)\n",
    "ppmt = npf.ppmt(Interest_rate/Freq, perfinal, Years*Freq, Principal)\n",
    "print(ipmt, ppmt)"
   ]
  },
  {
   "cell_type": "markdown",
   "metadata": {},
   "source": [
    "### The difference is huge!"
   ]
  },
  {
   "cell_type": "markdown",
   "metadata": {},
   "source": [
    "At the beginning of the loan, interest costs are at their highest. Not much of the payment goes to principal repayment; most of it is interest. As time goes on, the principal decreases and in turn the interest on the principal also. That means more and more of each payment goes towards repaying the princiapal and you pay less interest each time."
   ]
  },
  {
   "cell_type": "markdown",
   "metadata": {},
   "source": [
    "## To help illustrate, let's make an amortization table using pandas DataFrame."
   ]
  },
  {
   "cell_type": "code",
   "execution_count": 6,
   "metadata": {},
   "outputs": [
    {
     "data": {
      "text/plain": [
       "DatetimeIndex(['2018-03-01', '2018-04-01', '2018-05-01', '2018-06-01',\n",
       "               '2018-07-01', '2018-08-01', '2018-09-01', '2018-10-01',\n",
       "               '2018-11-01', '2018-12-01',\n",
       "               ...\n",
       "               '2047-05-01', '2047-06-01', '2047-07-01', '2047-08-01',\n",
       "               '2047-09-01', '2047-10-01', '2047-11-01', '2047-12-01',\n",
       "               '2048-01-01', '2048-02-01'],\n",
       "              dtype='datetime64[ns]', name='Payment Date', length=360, freq='MS')"
      ]
     },
     "execution_count": 6,
     "metadata": {},
     "output_type": "execute_result"
    }
   ],
   "source": [
    "#DateTimeIndex for the entire mortgage period\n",
    "rng = pd.date_range(start, periods=Years*Freq, freq='MS', name='Payment Date')\n",
    "rng"
   ]
  },
  {
   "cell_type": "code",
   "execution_count": 7,
   "metadata": {},
   "outputs": [
    {
     "data": {
      "text/html": [
       "<div>\n",
       "<style scoped>\n",
       "    .dataframe tbody tr th:only-of-type {\n",
       "        vertical-align: middle;\n",
       "    }\n",
       "\n",
       "    .dataframe tbody tr th {\n",
       "        vertical-align: top;\n",
       "    }\n",
       "\n",
       "    .dataframe thead th {\n",
       "        text-align: right;\n",
       "    }\n",
       "</style>\n",
       "<table border=\"1\" class=\"dataframe\">\n",
       "  <thead>\n",
       "    <tr style=\"text-align: right;\">\n",
       "      <th></th>\n",
       "      <th>Payment Date</th>\n",
       "      <th>Monthly Payment</th>\n",
       "      <th>Principal</th>\n",
       "      <th>Interest</th>\n",
       "      <th>Cumulative Principal</th>\n",
       "      <th>New Balance</th>\n",
       "    </tr>\n",
       "    <tr>\n",
       "      <th>Period</th>\n",
       "      <th></th>\n",
       "      <th></th>\n",
       "      <th></th>\n",
       "      <th></th>\n",
       "      <th></th>\n",
       "      <th></th>\n",
       "    </tr>\n",
       "  </thead>\n",
       "  <tbody>\n",
       "    <tr>\n",
       "      <th>1</th>\n",
       "      <td>2018-03-01</td>\n",
       "      <td>-1073.64</td>\n",
       "      <td>-240.31</td>\n",
       "      <td>-833.33</td>\n",
       "      <td>-240.31</td>\n",
       "      <td>199759.69</td>\n",
       "    </tr>\n",
       "    <tr>\n",
       "      <th>2</th>\n",
       "      <td>2018-04-01</td>\n",
       "      <td>-1073.64</td>\n",
       "      <td>-241.31</td>\n",
       "      <td>-832.33</td>\n",
       "      <td>-481.62</td>\n",
       "      <td>199518.38</td>\n",
       "    </tr>\n",
       "    <tr>\n",
       "      <th>3</th>\n",
       "      <td>2018-05-01</td>\n",
       "      <td>-1073.64</td>\n",
       "      <td>-242.32</td>\n",
       "      <td>-831.33</td>\n",
       "      <td>-723.94</td>\n",
       "      <td>199276.06</td>\n",
       "    </tr>\n",
       "    <tr>\n",
       "      <th>4</th>\n",
       "      <td>2018-06-01</td>\n",
       "      <td>-1073.64</td>\n",
       "      <td>-243.33</td>\n",
       "      <td>-830.32</td>\n",
       "      <td>-967.26</td>\n",
       "      <td>199032.74</td>\n",
       "    </tr>\n",
       "    <tr>\n",
       "      <th>5</th>\n",
       "      <td>2018-07-01</td>\n",
       "      <td>-1073.64</td>\n",
       "      <td>-244.34</td>\n",
       "      <td>-829.30</td>\n",
       "      <td>-1211.60</td>\n",
       "      <td>198788.40</td>\n",
       "    </tr>\n",
       "    <tr>\n",
       "      <th>...</th>\n",
       "      <td>...</td>\n",
       "      <td>...</td>\n",
       "      <td>...</td>\n",
       "      <td>...</td>\n",
       "      <td>...</td>\n",
       "      <td>...</td>\n",
       "    </tr>\n",
       "    <tr>\n",
       "      <th>356</th>\n",
       "      <td>2047-10-01</td>\n",
       "      <td>-1073.64</td>\n",
       "      <td>-1051.55</td>\n",
       "      <td>-22.09</td>\n",
       "      <td>-195749.79</td>\n",
       "      <td>4250.21</td>\n",
       "    </tr>\n",
       "    <tr>\n",
       "      <th>357</th>\n",
       "      <td>2047-11-01</td>\n",
       "      <td>-1073.64</td>\n",
       "      <td>-1055.93</td>\n",
       "      <td>-17.71</td>\n",
       "      <td>-196805.73</td>\n",
       "      <td>3194.27</td>\n",
       "    </tr>\n",
       "    <tr>\n",
       "      <th>358</th>\n",
       "      <td>2047-12-01</td>\n",
       "      <td>-1073.64</td>\n",
       "      <td>-1060.33</td>\n",
       "      <td>-13.31</td>\n",
       "      <td>-197866.06</td>\n",
       "      <td>2133.94</td>\n",
       "    </tr>\n",
       "    <tr>\n",
       "      <th>359</th>\n",
       "      <td>2048-01-01</td>\n",
       "      <td>-1073.64</td>\n",
       "      <td>-1064.75</td>\n",
       "      <td>-8.89</td>\n",
       "      <td>-198930.81</td>\n",
       "      <td>1069.19</td>\n",
       "    </tr>\n",
       "    <tr>\n",
       "      <th>360</th>\n",
       "      <td>2048-02-01</td>\n",
       "      <td>-1073.64</td>\n",
       "      <td>-1069.19</td>\n",
       "      <td>-4.45</td>\n",
       "      <td>-200000.00</td>\n",
       "      <td>0.00</td>\n",
       "    </tr>\n",
       "  </tbody>\n",
       "</table>\n",
       "<p>360 rows × 6 columns</p>\n",
       "</div>"
      ],
      "text/plain": [
       "       Payment Date  Monthly Payment  Principal  Interest  \\\n",
       "Period                                                      \n",
       "1        2018-03-01         -1073.64    -240.31   -833.33   \n",
       "2        2018-04-01         -1073.64    -241.31   -832.33   \n",
       "3        2018-05-01         -1073.64    -242.32   -831.33   \n",
       "4        2018-06-01         -1073.64    -243.33   -830.32   \n",
       "5        2018-07-01         -1073.64    -244.34   -829.30   \n",
       "...             ...              ...        ...       ...   \n",
       "356      2047-10-01         -1073.64   -1051.55    -22.09   \n",
       "357      2047-11-01         -1073.64   -1055.93    -17.71   \n",
       "358      2047-12-01         -1073.64   -1060.33    -13.31   \n",
       "359      2048-01-01         -1073.64   -1064.75     -8.89   \n",
       "360      2048-02-01         -1073.64   -1069.19     -4.45   \n",
       "\n",
       "        Cumulative Principal  New Balance  \n",
       "Period                                     \n",
       "1                    -240.31    199759.69  \n",
       "2                    -481.62    199518.38  \n",
       "3                    -723.94    199276.06  \n",
       "4                    -967.26    199032.74  \n",
       "5                   -1211.60    198788.40  \n",
       "...                      ...          ...  \n",
       "356               -195749.79      4250.21  \n",
       "357               -196805.73      3194.27  \n",
       "358               -197866.06      2133.94  \n",
       "359               -198930.81      1069.19  \n",
       "360               -200000.00         0.00  \n",
       "\n",
       "[360 rows x 6 columns]"
      ]
     },
     "execution_count": 7,
     "metadata": {},
     "output_type": "execute_result"
    }
   ],
   "source": [
    "df = pd.DataFrame(index=rng,columns=['Monthly Payment', 'Principal','Interest','Cumulative Principal','New Balance'], dtype='float')\n",
    "df.reset_index(inplace=True)\n",
    "df.index += 1\n",
    "df.index.name = \"Period\"\n",
    "df[\"Monthly Payment\"] = npf.pmt(Interest_rate/Freq, Years*Freq, Principal)\n",
    "df[\"Interest\"] = npf.ipmt(Interest_rate/Freq, df.index, Years*Freq, Principal)\n",
    "df[\"Principal\"] = npf.ppmt(Interest_rate/Freq, df.index, Years*Freq, Principal)\n",
    "df['Cumulative Principal'] = df['Principal'].cumsum()\n",
    "df['Cumulative Principal'] = df['Cumulative Principal'].clip(lower=-Principal)\n",
    "df['New Balance'] = Principal + df['Cumulative Principal']\n",
    "df = df.round(2)\n",
    "df"
   ]
  },
  {
   "cell_type": "code",
   "execution_count": 8,
   "metadata": {
    "scrolled": true
   },
   "outputs": [
    {
     "name": "stdout",
     "output_type": "stream",
     "text": [
      "Total interest paid over the whole life cycle is: $186511.64.\n"
     ]
    }
   ],
   "source": [
    "print('Total interest paid over the whole life cycle is: ${0}.'.format(-df['Interest'].sum()))"
   ]
  },
  {
   "cell_type": "markdown",
   "metadata": {},
   "source": [
    "## To compare different amortization schedules, we can use the following function."
   ]
  },
  {
   "cell_type": "code",
   "execution_count": 9,
   "metadata": {},
   "outputs": [],
   "source": [
    "def amortization_table(interest_rate, years, frequency, principal, start_date=datetime.date.today()):\n",
    "    rng = pd.date_range(start_date, periods=years*frequency, freq='MS', name='Payment Date')\n",
    "    table = pd.DataFrame(index=rng,columns=['Monthly Payment', 'Principal','Interest','Cumulative Principal','New Balance'], dtype='float')\n",
    "    table.reset_index(inplace=True)\n",
    "    table.index += 1\n",
    "    table.index.name = \"Period\"\n",
    "    table[\"Monthly Payment\"] = npf.pmt(interest_rate/frequency, years*frequency, principal)\n",
    "    table[\"Interest\"] = npf.ipmt(interest_rate/frequency, table.index, years*frequency, principal)\n",
    "    table[\"Principal\"] = npf.ppmt(interest_rate/frequency, table.index, years*frequency, principal)\n",
    "    table['Cumulative Principal'] = table['Principal'].cumsum()\n",
    "    table['Cumulative Principal'] = table['Cumulative Principal'].clip(lower=-principal)\n",
    "    table['New Balance'] = principal + table['Cumulative Principal']\n",
    "    table = table.round(2)\n",
    "    print('Total interest paid over the whole life cycle is ${0} with a monthly payment of ${1}.'.format(np.round(-table['Interest'].sum(),2), -table.loc[1, \"Monthly Payment\"]))\n",
    "    return table"
   ]
  },
  {
   "cell_type": "code",
   "execution_count": 10,
   "metadata": {},
   "outputs": [
    {
     "name": "stdout",
     "output_type": "stream",
     "text": [
      "Total interest paid over the whole life cycle is $71869.44 with a monthly payment of $477.42.\n",
      "Total interest paid over the whole life cycle is $33143.85 with a monthly payment of $739.69.\n"
     ]
    }
   ],
   "source": [
    "schedule1 = amortization_table(0.04, 30, 12, 100000)\n",
    "schedule2 = amortization_table(0.04, 15, 12, 100000)"
   ]
  },
  {
   "cell_type": "code",
   "execution_count": 11,
   "metadata": {
    "scrolled": true
   },
   "outputs": [
    {
     "data": {
      "text/html": [
       "<div>\n",
       "<style scoped>\n",
       "    .dataframe tbody tr th:only-of-type {\n",
       "        vertical-align: middle;\n",
       "    }\n",
       "\n",
       "    .dataframe tbody tr th {\n",
       "        vertical-align: top;\n",
       "    }\n",
       "\n",
       "    .dataframe thead th {\n",
       "        text-align: right;\n",
       "    }\n",
       "</style>\n",
       "<table border=\"1\" class=\"dataframe\">\n",
       "  <thead>\n",
       "    <tr style=\"text-align: right;\">\n",
       "      <th></th>\n",
       "      <th>Payment Date</th>\n",
       "      <th>Monthly Payment</th>\n",
       "      <th>Principal</th>\n",
       "      <th>Interest</th>\n",
       "      <th>Cumulative Principal</th>\n",
       "      <th>New Balance</th>\n",
       "    </tr>\n",
       "    <tr>\n",
       "      <th>Period</th>\n",
       "      <th></th>\n",
       "      <th></th>\n",
       "      <th></th>\n",
       "      <th></th>\n",
       "      <th></th>\n",
       "      <th></th>\n",
       "    </tr>\n",
       "  </thead>\n",
       "  <tbody>\n",
       "    <tr>\n",
       "      <th>1</th>\n",
       "      <td>2020-05-01</td>\n",
       "      <td>-477.42</td>\n",
       "      <td>-144.08</td>\n",
       "      <td>-333.33</td>\n",
       "      <td>-144.08</td>\n",
       "      <td>99855.92</td>\n",
       "    </tr>\n",
       "    <tr>\n",
       "      <th>2</th>\n",
       "      <td>2020-06-01</td>\n",
       "      <td>-477.42</td>\n",
       "      <td>-144.56</td>\n",
       "      <td>-332.85</td>\n",
       "      <td>-288.64</td>\n",
       "      <td>99711.36</td>\n",
       "    </tr>\n",
       "    <tr>\n",
       "      <th>3</th>\n",
       "      <td>2020-07-01</td>\n",
       "      <td>-477.42</td>\n",
       "      <td>-145.04</td>\n",
       "      <td>-332.37</td>\n",
       "      <td>-433.69</td>\n",
       "      <td>99566.31</td>\n",
       "    </tr>\n",
       "    <tr>\n",
       "      <th>4</th>\n",
       "      <td>2020-08-01</td>\n",
       "      <td>-477.42</td>\n",
       "      <td>-145.53</td>\n",
       "      <td>-331.89</td>\n",
       "      <td>-579.22</td>\n",
       "      <td>99420.78</td>\n",
       "    </tr>\n",
       "    <tr>\n",
       "      <th>5</th>\n",
       "      <td>2020-09-01</td>\n",
       "      <td>-477.42</td>\n",
       "      <td>-146.01</td>\n",
       "      <td>-331.40</td>\n",
       "      <td>-725.23</td>\n",
       "      <td>99274.77</td>\n",
       "    </tr>\n",
       "    <tr>\n",
       "      <th>...</th>\n",
       "      <td>...</td>\n",
       "      <td>...</td>\n",
       "      <td>...</td>\n",
       "      <td>...</td>\n",
       "      <td>...</td>\n",
       "      <td>...</td>\n",
       "    </tr>\n",
       "    <tr>\n",
       "      <th>356</th>\n",
       "      <td>2049-12-01</td>\n",
       "      <td>-477.42</td>\n",
       "      <td>-469.54</td>\n",
       "      <td>-7.88</td>\n",
       "      <td>-98106.15</td>\n",
       "      <td>1893.85</td>\n",
       "    </tr>\n",
       "    <tr>\n",
       "      <th>357</th>\n",
       "      <td>2050-01-01</td>\n",
       "      <td>-477.42</td>\n",
       "      <td>-471.10</td>\n",
       "      <td>-6.31</td>\n",
       "      <td>-98577.25</td>\n",
       "      <td>1422.75</td>\n",
       "    </tr>\n",
       "    <tr>\n",
       "      <th>358</th>\n",
       "      <td>2050-02-01</td>\n",
       "      <td>-477.42</td>\n",
       "      <td>-472.67</td>\n",
       "      <td>-4.74</td>\n",
       "      <td>-99049.92</td>\n",
       "      <td>950.08</td>\n",
       "    </tr>\n",
       "    <tr>\n",
       "      <th>359</th>\n",
       "      <td>2050-03-01</td>\n",
       "      <td>-477.42</td>\n",
       "      <td>-474.25</td>\n",
       "      <td>-3.17</td>\n",
       "      <td>-99524.17</td>\n",
       "      <td>475.83</td>\n",
       "    </tr>\n",
       "    <tr>\n",
       "      <th>360</th>\n",
       "      <td>2050-04-01</td>\n",
       "      <td>-477.42</td>\n",
       "      <td>-475.83</td>\n",
       "      <td>-1.59</td>\n",
       "      <td>-100000.00</td>\n",
       "      <td>0.00</td>\n",
       "    </tr>\n",
       "  </tbody>\n",
       "</table>\n",
       "<p>360 rows × 6 columns</p>\n",
       "</div>"
      ],
      "text/plain": [
       "       Payment Date  Monthly Payment  Principal  Interest  \\\n",
       "Period                                                      \n",
       "1        2020-05-01          -477.42    -144.08   -333.33   \n",
       "2        2020-06-01          -477.42    -144.56   -332.85   \n",
       "3        2020-07-01          -477.42    -145.04   -332.37   \n",
       "4        2020-08-01          -477.42    -145.53   -331.89   \n",
       "5        2020-09-01          -477.42    -146.01   -331.40   \n",
       "...             ...              ...        ...       ...   \n",
       "356      2049-12-01          -477.42    -469.54     -7.88   \n",
       "357      2050-01-01          -477.42    -471.10     -6.31   \n",
       "358      2050-02-01          -477.42    -472.67     -4.74   \n",
       "359      2050-03-01          -477.42    -474.25     -3.17   \n",
       "360      2050-04-01          -477.42    -475.83     -1.59   \n",
       "\n",
       "        Cumulative Principal  New Balance  \n",
       "Period                                     \n",
       "1                    -144.08     99855.92  \n",
       "2                    -288.64     99711.36  \n",
       "3                    -433.69     99566.31  \n",
       "4                    -579.22     99420.78  \n",
       "5                    -725.23     99274.77  \n",
       "...                      ...          ...  \n",
       "356                -98106.15      1893.85  \n",
       "357                -98577.25      1422.75  \n",
       "358                -99049.92       950.08  \n",
       "359                -99524.17       475.83  \n",
       "360               -100000.00         0.00  \n",
       "\n",
       "[360 rows x 6 columns]"
      ]
     },
     "execution_count": 11,
     "metadata": {},
     "output_type": "execute_result"
    }
   ],
   "source": [
    "schedule1"
   ]
  },
  {
   "cell_type": "code",
   "execution_count": 12,
   "metadata": {},
   "outputs": [
    {
     "data": {
      "text/html": [
       "<div>\n",
       "<style scoped>\n",
       "    .dataframe tbody tr th:only-of-type {\n",
       "        vertical-align: middle;\n",
       "    }\n",
       "\n",
       "    .dataframe tbody tr th {\n",
       "        vertical-align: top;\n",
       "    }\n",
       "\n",
       "    .dataframe thead th {\n",
       "        text-align: right;\n",
       "    }\n",
       "</style>\n",
       "<table border=\"1\" class=\"dataframe\">\n",
       "  <thead>\n",
       "    <tr style=\"text-align: right;\">\n",
       "      <th></th>\n",
       "      <th>Payment Date</th>\n",
       "      <th>Monthly Payment</th>\n",
       "      <th>Principal</th>\n",
       "      <th>Interest</th>\n",
       "      <th>Cumulative Principal</th>\n",
       "      <th>New Balance</th>\n",
       "    </tr>\n",
       "    <tr>\n",
       "      <th>Period</th>\n",
       "      <th></th>\n",
       "      <th></th>\n",
       "      <th></th>\n",
       "      <th></th>\n",
       "      <th></th>\n",
       "      <th></th>\n",
       "    </tr>\n",
       "  </thead>\n",
       "  <tbody>\n",
       "    <tr>\n",
       "      <th>1</th>\n",
       "      <td>2020-05-01</td>\n",
       "      <td>-739.69</td>\n",
       "      <td>-406.35</td>\n",
       "      <td>-333.33</td>\n",
       "      <td>-406.35</td>\n",
       "      <td>99593.65</td>\n",
       "    </tr>\n",
       "    <tr>\n",
       "      <th>2</th>\n",
       "      <td>2020-06-01</td>\n",
       "      <td>-739.69</td>\n",
       "      <td>-407.71</td>\n",
       "      <td>-331.98</td>\n",
       "      <td>-814.06</td>\n",
       "      <td>99185.94</td>\n",
       "    </tr>\n",
       "    <tr>\n",
       "      <th>3</th>\n",
       "      <td>2020-07-01</td>\n",
       "      <td>-739.69</td>\n",
       "      <td>-409.07</td>\n",
       "      <td>-330.62</td>\n",
       "      <td>-1223.13</td>\n",
       "      <td>98776.87</td>\n",
       "    </tr>\n",
       "    <tr>\n",
       "      <th>4</th>\n",
       "      <td>2020-08-01</td>\n",
       "      <td>-739.69</td>\n",
       "      <td>-410.43</td>\n",
       "      <td>-329.26</td>\n",
       "      <td>-1633.56</td>\n",
       "      <td>98366.44</td>\n",
       "    </tr>\n",
       "    <tr>\n",
       "      <th>5</th>\n",
       "      <td>2020-09-01</td>\n",
       "      <td>-739.69</td>\n",
       "      <td>-411.80</td>\n",
       "      <td>-327.89</td>\n",
       "      <td>-2045.36</td>\n",
       "      <td>97954.64</td>\n",
       "    </tr>\n",
       "    <tr>\n",
       "      <th>...</th>\n",
       "      <td>...</td>\n",
       "      <td>...</td>\n",
       "      <td>...</td>\n",
       "      <td>...</td>\n",
       "      <td>...</td>\n",
       "      <td>...</td>\n",
       "    </tr>\n",
       "    <tr>\n",
       "      <th>176</th>\n",
       "      <td>2034-12-01</td>\n",
       "      <td>-739.69</td>\n",
       "      <td>-727.48</td>\n",
       "      <td>-12.21</td>\n",
       "      <td>-97065.74</td>\n",
       "      <td>2934.26</td>\n",
       "    </tr>\n",
       "    <tr>\n",
       "      <th>177</th>\n",
       "      <td>2035-01-01</td>\n",
       "      <td>-739.69</td>\n",
       "      <td>-729.91</td>\n",
       "      <td>-9.78</td>\n",
       "      <td>-97795.65</td>\n",
       "      <td>2204.35</td>\n",
       "    </tr>\n",
       "    <tr>\n",
       "      <th>178</th>\n",
       "      <td>2035-02-01</td>\n",
       "      <td>-739.69</td>\n",
       "      <td>-732.34</td>\n",
       "      <td>-7.35</td>\n",
       "      <td>-98527.99</td>\n",
       "      <td>1472.01</td>\n",
       "    </tr>\n",
       "    <tr>\n",
       "      <th>179</th>\n",
       "      <td>2035-03-01</td>\n",
       "      <td>-739.69</td>\n",
       "      <td>-734.78</td>\n",
       "      <td>-4.91</td>\n",
       "      <td>-99262.77</td>\n",
       "      <td>737.23</td>\n",
       "    </tr>\n",
       "    <tr>\n",
       "      <th>180</th>\n",
       "      <td>2035-04-01</td>\n",
       "      <td>-739.69</td>\n",
       "      <td>-737.23</td>\n",
       "      <td>-2.46</td>\n",
       "      <td>-100000.00</td>\n",
       "      <td>0.00</td>\n",
       "    </tr>\n",
       "  </tbody>\n",
       "</table>\n",
       "<p>180 rows × 6 columns</p>\n",
       "</div>"
      ],
      "text/plain": [
       "       Payment Date  Monthly Payment  Principal  Interest  \\\n",
       "Period                                                      \n",
       "1        2020-05-01          -739.69    -406.35   -333.33   \n",
       "2        2020-06-01          -739.69    -407.71   -331.98   \n",
       "3        2020-07-01          -739.69    -409.07   -330.62   \n",
       "4        2020-08-01          -739.69    -410.43   -329.26   \n",
       "5        2020-09-01          -739.69    -411.80   -327.89   \n",
       "...             ...              ...        ...       ...   \n",
       "176      2034-12-01          -739.69    -727.48    -12.21   \n",
       "177      2035-01-01          -739.69    -729.91     -9.78   \n",
       "178      2035-02-01          -739.69    -732.34     -7.35   \n",
       "179      2035-03-01          -739.69    -734.78     -4.91   \n",
       "180      2035-04-01          -739.69    -737.23     -2.46   \n",
       "\n",
       "        Cumulative Principal  New Balance  \n",
       "Period                                     \n",
       "1                    -406.35     99593.65  \n",
       "2                    -814.06     99185.94  \n",
       "3                   -1223.13     98776.87  \n",
       "4                   -1633.56     98366.44  \n",
       "5                   -2045.36     97954.64  \n",
       "...                      ...          ...  \n",
       "176                -97065.74      2934.26  \n",
       "177                -97795.65      2204.35  \n",
       "178                -98527.99      1472.01  \n",
       "179                -99262.77       737.23  \n",
       "180               -100000.00         0.00  \n",
       "\n",
       "[180 rows x 6 columns]"
      ]
     },
     "execution_count": 12,
     "metadata": {},
     "output_type": "execute_result"
    }
   ],
   "source": [
    "schedule2"
   ]
  },
  {
   "cell_type": "markdown",
   "metadata": {},
   "source": [
    "# Visualizations"
   ]
  },
  {
   "cell_type": "code",
   "execution_count": 13,
   "metadata": {
    "scrolled": true
   },
   "outputs": [
    {
     "data": {
      "image/png": "[encoded data removed]",
      "text/plain": [
       "<Figure size 432x288 with 1 Axes>"
      ]
     },
     "metadata": {
      "needs_background": "light"
     },
     "output_type": "display_data"
    }
   ],
   "source": [
    "fig, ax = plt.subplots(1, 1)\n",
    "schedule1.plot(x='Payment Date', y='New Balance', label=\"Scenario 1\", ax=ax)\n",
    "schedule2.plot(x='Payment Date', y='New Balance', label=\"Scenario 2\", ax=ax)\n",
    "plt.title(\"Pay Off Timelines\");"
   ]
  },
  {
   "cell_type": "code",
   "execution_count": 14,
   "metadata": {},
   "outputs": [
    {
     "data": {
      "image/png": "[encoded data removed]",
      "text/plain": [
       "<Figure size 432x288 with 1 Axes>"
      ]
     },
     "metadata": {
      "needs_background": "light"
     },
     "output_type": "display_data"
    }
   ],
   "source": [
    "schedule1[\"Cumulative Interest\"] = schedule1[\"Interest\"].abs().cumsum()\n",
    "schedule2[\"Cumulative Interest\"] = schedule2[\"Interest\"].abs().cumsum()\n",
    "fig, ax = plt.subplots(1, 1)\n",
    "\n",
    "schedule1.plot(x='Payment Date', y='Cumulative Interest', label=\"Scenario 1\", ax=ax)\n",
    "schedule2.plot(x='Payment Date', y='Cumulative Interest', label=\"Scenario 2\", ax=ax)\n",
    "\n",
    "ax.legend(loc=\"best\");"
   ]
  }
 ],
 "metadata": {
  "kernelspec": {
   "display_name": "Python 3",
   "language": "python",
   "name": "python3"
  },
  "language_info": {
   "codemirror_mode": {
    "name": "ipython",
    "version": 3
   },
   "file_extension": ".py",
   "mimetype": "text/x-python",
   "name": "python",
   "nbconvert_exporter": "python",
   "pygments_lexer": "ipython3",
   "version": "3.7.6"
  }
 },
 "nbformat": 4,
 "nbformat_minor": 4
}
